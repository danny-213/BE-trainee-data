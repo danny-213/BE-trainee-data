{
 "cells": [
  {
   "cell_type": "code",
   "execution_count": 2,
   "id": "e65aabdc",
   "metadata": {},
   "outputs": [
    {
     "ename": "KeyError",
     "evalue": "'PLU'",
     "output_type": "error",
     "traceback": [
      "\u001b[0;31m---------------------------------------------------------------------------\u001b[0m",
      "\u001b[0;31mKeyError\u001b[0m                                  Traceback (most recent call last)",
      "Input \u001b[0;32mIn [2]\u001b[0m, in \u001b[0;36m<cell line: 56>\u001b[0;34m()\u001b[0m\n\u001b[1;32m     54\u001b[0m     write_csv_file(output_filename, inbound_data, fieldnames)\n\u001b[1;32m     56\u001b[0m \u001b[38;5;28;01mif\u001b[39;00m \u001b[38;5;18m__name__\u001b[39m \u001b[38;5;241m==\u001b[39m \u001b[38;5;124m'\u001b[39m\u001b[38;5;124m__main__\u001b[39m\u001b[38;5;124m'\u001b[39m:\n\u001b[0;32m---> 57\u001b[0m     \u001b[43mmain\u001b[49m\u001b[43m(\u001b[49m\u001b[43m)\u001b[49m\n",
      "Input \u001b[0;32mIn [2]\u001b[0m, in \u001b[0;36mmain\u001b[0;34m()\u001b[0m\n\u001b[1;32m     48\u001b[0m master_data \u001b[38;5;241m=\u001b[39m read_csv_file(master_filename)\n\u001b[1;32m     49\u001b[0m master_data \u001b[38;5;241m=\u001b[39m {row[\u001b[38;5;124m'\u001b[39m\u001b[38;5;124mMaterial\u001b[39m\u001b[38;5;124m'\u001b[39m]: row \u001b[38;5;28;01mfor\u001b[39;00m row \u001b[38;5;129;01min\u001b[39;00m master_data}\n\u001b[0;32m---> 51\u001b[0m \u001b[43mcalculate_values\u001b[49m\u001b[43m(\u001b[49m\u001b[43minbound_data\u001b[49m\u001b[43m,\u001b[49m\u001b[43m \u001b[49m\u001b[43mmaster_data\u001b[49m\u001b[43m)\u001b[49m\n\u001b[1;32m     53\u001b[0m fieldnames \u001b[38;5;241m=\u001b[39m inbound_data[\u001b[38;5;241m0\u001b[39m]\u001b[38;5;241m.\u001b[39mkeys()\n\u001b[1;32m     54\u001b[0m write_csv_file(output_filename, inbound_data, fieldnames)\n",
      "Input \u001b[0;32mIn [2]\u001b[0m, in \u001b[0;36mcalculate_values\u001b[0;34m(inbound_data, master_data)\u001b[0m\n\u001b[1;32m     24\u001b[0m master_row \u001b[38;5;241m=\u001b[39m master_data[material]\n\u001b[1;32m     25\u001b[0m base_quantity \u001b[38;5;241m=\u001b[39m parse_quantity(row[\u001b[38;5;124m'\u001b[39m\u001b[38;5;124mQuantity\u001b[39m\u001b[38;5;124m'\u001b[39m])\n\u001b[0;32m---> 26\u001b[0m pallets \u001b[38;5;241m=\u001b[39m parse_quantity(\u001b[43mmaster_row\u001b[49m\u001b[43m[\u001b[49m\u001b[38;5;124;43m'\u001b[39;49m\u001b[38;5;124;43mPLU\u001b[39;49m\u001b[38;5;124;43m'\u001b[39;49m\u001b[43m]\u001b[49m\u001b[38;5;241m.\u001b[39msplit()[\u001b[38;5;241m0\u001b[39m])\n\u001b[1;32m     27\u001b[0m boxes \u001b[38;5;241m=\u001b[39m parse_quantity(master_row[\u001b[38;5;124m'\u001b[39m\u001b[38;5;124mPC\u001b[39m\u001b[38;5;124m'\u001b[39m]\u001b[38;5;241m.\u001b[39msplit()[\u001b[38;5;241m0\u001b[39m])\n\u001b[1;32m     29\u001b[0m \u001b[38;5;66;03m# Perform calculations\u001b[39;00m\n",
      "\u001b[0;31mKeyError\u001b[0m: 'PLU'"
     ]
    }
   ],
   "source": [
    "import csv\n",
    "\n",
    "def read_csv_file(filename):\n",
    "    data = []\n",
    "    with open(filename, 'r') as file:\n",
    "        reader = csv.DictReader(file, delimiter=';')\n",
    "        for row in reader:\n",
    "            data.append(row)\n",
    "    return data\n",
    "\n",
    "def write_csv_file(filename, data, fieldnames):\n",
    "    with open(filename, 'w', newline='') as file:\n",
    "        writer = csv.DictWriter(file, fieldnames=fieldnames, delimiter=';')\n",
    "        writer.writeheader()\n",
    "        writer.writerows(data)\n",
    "\n",
    "def parse_quantity(quantity_str):\n",
    "    return int(quantity_str.replace(' ', '').replace(',', ''))\n",
    "\n",
    "def calculate_values(inbound_data, master_data):\n",
    "    for row in inbound_data:\n",
    "        material = row['Material']\n",
    "        if material in master_data:\n",
    "            master_row = master_data[material]\n",
    "            base_quantity = parse_quantity(row['Quantity'])\n",
    "            pallets = parse_quantity(master_row['PLU'].split()[0])\n",
    "            boxes = parse_quantity(master_row['PC'].split()[0])\n",
    "\n",
    "            # Perform calculations\n",
    "            base_boxes = base_quantity // boxes\n",
    "            base_pallets = base_boxes // pallets\n",
    "            remaining_boxes = base_quantity % boxes\n",
    "            remaining_pallets = base_boxes % pallets\n",
    "\n",
    "            # Update row with calculated values\n",
    "            row['Base Unit of Measure'] = 'PC'\n",
    "            row['Boxes'] = str(base_boxes)\n",
    "            row['Pallets'] = str(base_pallets)\n",
    "            row['Remaining Boxes'] = str(remaining_boxes)\n",
    "            row['Remaining Pallets'] = str(remaining_pallets)\n",
    "\n",
    "def main():\n",
    "    inbound_filename = '2022 inbound.csv'\n",
    "    master_filename = 'MD.csv'\n",
    "    output_filename = 'output.csv'\n",
    "\n",
    "    inbound_data = read_csv_file(inbound_filename)\n",
    "    master_data = read_csv_file(master_filename)\n",
    "    master_data = {row['Material']: row for row in master_data}\n",
    "\n",
    "    calculate_values(inbound_data, master_data)\n",
    "\n",
    "    fieldnames = inbound_data[0].keys()\n",
    "    write_csv_file(output_filename, inbound_data, fieldnames)\n",
    "\n",
    "if __name__ == '__main__':\n",
    "    main()\n"
   ]
  },
  {
   "cell_type": "code",
   "execution_count": null,
   "id": "5c816409",
   "metadata": {},
   "outputs": [],
   "source": []
  },
  {
   "cell_type": "code",
   "execution_count": null,
   "id": "42fdbd74",
   "metadata": {},
   "outputs": [],
   "source": []
  }
 ],
 "metadata": {
  "kernelspec": {
   "display_name": "Python 3 (ipykernel)",
   "language": "python",
   "name": "python3"
  },
  "language_info": {
   "codemirror_mode": {
    "name": "ipython",
    "version": 3
   },
   "file_extension": ".py",
   "mimetype": "text/x-python",
   "name": "python",
   "nbconvert_exporter": "python",
   "pygments_lexer": "ipython3",
   "version": "3.9.12"
  }
 },
 "nbformat": 4,
 "nbformat_minor": 5
}
