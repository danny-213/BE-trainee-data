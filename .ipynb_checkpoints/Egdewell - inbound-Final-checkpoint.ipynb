{
 "cells": [
  {
   "cell_type": "code",
   "execution_count": 1,
   "id": "ad0b8a31",
   "metadata": {},
   "outputs": [
    {
     "data": {
      "text/plain": [
       "(24136, 9)"
      ]
     },
     "execution_count": 1,
     "metadata": {},
     "output_type": "execute_result"
    }
   ],
   "source": [
    "import pandas as pd\n",
    "import math\n",
    "\n",
    "# Read the inbound.csv file\n",
    "df_inbound = pd.read_csv('template 2022 inbound.csv', sep=';')\n",
    "\n",
    "df_inbound.shape\n"
   ]
  },
  {
   "cell_type": "markdown",
   "id": "9f31cfcd",
   "metadata": {},
   "source": [
    "<h1>About the data input</h1>\n",
    "<p>The code is refering to 'template 2022 inbound.csv' which is 'inbound.xlsx' with the blank columns remove & format in csv. </p>\n",
    "<p>We will not refer to the MD.xlsx data as there are a lot of missing Material code</p>"
   ]
  },
  {
   "cell_type": "code",
   "execution_count": 41,
   "id": "0c6ad757",
   "metadata": {},
   "outputs": [
    {
     "name": "stdout",
     "output_type": "stream",
     "text": [
      "NaN value counts per column:\n",
      "Material                  0\n",
      "Material Document         0\n",
      "Reference               717\n",
      "Posting Date              0\n",
      "Time of Entry             0\n",
      "Quantity                  0\n",
      "Base Unit of Measure      0\n",
      "Boxes                     0\n",
      "Pallets                  74\n",
      "dtype: int64\n"
     ]
    },
    {
     "name": "stderr",
     "output_type": "stream",
     "text": [
      "/var/folders/5j/b5cpchnx2w57rt5gx7nvfntr0000gn/T/ipykernel_5252/3828641158.py:19: SettingWithCopyWarning: \n",
      "A value is trying to be set on a copy of a slice from a DataFrame.\n",
      "Try using .loc[row_indexer,col_indexer] = value instead\n",
      "\n",
      "See the caveats in the documentation: https://pandas.pydata.org/pandas-docs/stable/user_guide/indexing.html#returning-a-view-versus-a-copy\n",
      "  df_filtered['Pallets'] = df_filtered['Pallets'].astype(str)\n",
      "/var/folders/5j/b5cpchnx2w57rt5gx7nvfntr0000gn/T/ipykernel_5252/3828641158.py:21: SettingWithCopyWarning: \n",
      "A value is trying to be set on a copy of a slice from a DataFrame.\n",
      "Try using .loc[row_indexer,col_indexer] = value instead\n",
      "\n",
      "See the caveats in the documentation: https://pandas.pydata.org/pandas-docs/stable/user_guide/indexing.html#returning-a-view-versus-a-copy\n",
      "  df_filtered['Pallets'] = df_filtered['Pallets'].str.replace(',', '.')\n",
      "/var/folders/5j/b5cpchnx2w57rt5gx7nvfntr0000gn/T/ipykernel_5252/3828641158.py:24: SettingWithCopyWarning: \n",
      "A value is trying to be set on a copy of a slice from a DataFrame.\n",
      "Try using .loc[row_indexer,col_indexer] = value instead\n",
      "\n",
      "See the caveats in the documentation: https://pandas.pydata.org/pandas-docs/stable/user_guide/indexing.html#returning-a-view-versus-a-copy\n",
      "  df_filtered['Pallets'] = pd.to_numeric(df_filtered['Pallets'], errors='coerce')\n",
      "/var/folders/5j/b5cpchnx2w57rt5gx7nvfntr0000gn/T/ipykernel_5252/3828641158.py:28: SettingWithCopyWarning: \n",
      "A value is trying to be set on a copy of a slice from a DataFrame\n",
      "\n",
      "See the caveats in the documentation: https://pandas.pydata.org/pandas-docs/stable/user_guide/indexing.html#returning-a-view-versus-a-copy\n",
      "  df_filtered.loc[:, 'Pallets'].fillna(1, inplace=True)\n"
     ]
    },
    {
     "name": "stdout",
     "output_type": "stream",
     "text": [
      "Material                 object\n",
      "Material Document         int64\n",
      "Reference                object\n",
      "Posting Date             object\n",
      "Time of Entry            object\n",
      "Quantity                 object\n",
      "Base Unit of Measure     object\n",
      "Boxes                     int64\n",
      "Pallets                 float64\n",
      "dtype: object\n",
      "Number of rows: 23419\n",
      "Number of columns: 9\n"
     ]
    }
   ],
   "source": [
    "\n",
    "def count_nan(df):\n",
    "    nan_counts = df.isna().sum()\n",
    "\n",
    "    print(\"NaN value counts per column:\")\n",
    "    print(nan_counts)\n",
    "\n",
    "\n",
    "    \n",
    "count_nan(df_inbound)\n",
    "\n",
    "###REFERENCE NUMBER###\n",
    "# Filter out rows with NaN values in 'Reference' column\n",
    "df_filtered = df_inbound.loc[df_inbound['Reference'].notna()]\n",
    "\n",
    "###PALLETS NUMBER###\n",
    "\n",
    "\n",
    "# Convert 'Pallets' column to a string type\n",
    "df_filtered['Pallets'] = df_filtered['Pallets'].astype(str)\n",
    "\n",
    "df_filtered['Pallets'] = df_filtered['Pallets'].str.replace(',', '.')\n",
    "\n",
    "#Convert value of Pallets to number\n",
    "df_filtered['Pallets'] = pd.to_numeric(df_filtered['Pallets'], errors='coerce')\n",
    "\n",
    "\n",
    "# Replace NaN values with 1 in 'Pallets' column\n",
    "df_filtered.loc[:, 'Pallets'].fillna(1, inplace=True)\n",
    "\n",
    "\n",
    "def check_non_numeric(df,col):\n",
    "\n",
    "    # Filter the dataframe to keep only the non-numeric rows\n",
    "    non_numeric_values = df.loc[non_numeric_rows, col]\n",
    "    # Print the non-numeric values\n",
    "    print(\"####Non-numeric values in 'Pallets' column:\")\n",
    "    print(non_numeric_values)\n",
    "\n",
    "print(df_filtered.dtypes)\n",
    "\n",
    "# Count rows and columns\n",
    "def shape_df(df):\n",
    "    num_rows = df.shape[0]\n",
    "    num_columns = df.shape[1]\n",
    "\n",
    "    print(\"Number of rows:\", num_rows)\n",
    "    print(\"Number of columns:\", num_columns)\n",
    "    \n",
    "shape_df(df_filtered)"
   ]
  },
  {
   "cell_type": "markdown",
   "id": "baeee446",
   "metadata": {},
   "source": [
    "<p>At first glance, there are,</p>\n",
    "<ul>\n",
    "    <li>717 rows with a blank Reference value, which were removed</li>\n",
    "    <li>74 rows with a blank Pallets value, which were replaced by 1. These value use , as delimiter so we will also need to change them to . and convert to float type</li>\n",
    "</ul>"
   ]
  },
  {
   "cell_type": "code",
   "execution_count": 44,
   "id": "7c906576",
   "metadata": {},
   "outputs": [
    {
     "name": "stderr",
     "output_type": "stream",
     "text": [
      "/var/folders/5j/b5cpchnx2w57rt5gx7nvfntr0000gn/T/ipykernel_5252/1436290789.py:3: SettingWithCopyWarning: \n",
      "A value is trying to be set on a copy of a slice from a DataFrame.\n",
      "Try using .loc[row_indexer,col_indexer] = value instead\n",
      "\n",
      "See the caveats in the documentation: https://pandas.pydata.org/pandas-docs/stable/user_guide/indexing.html#returning-a-view-versus-a-copy\n",
      "  df_filtered['Whole_Pallets'] = df_filtered['Pallets'].apply(lambda x: int(x))\n",
      "/var/folders/5j/b5cpchnx2w57rt5gx7nvfntr0000gn/T/ipykernel_5252/1436290789.py:6: SettingWithCopyWarning: \n",
      "A value is trying to be set on a copy of a slice from a DataFrame.\n",
      "Try using .loc[row_indexer,col_indexer] = value instead\n",
      "\n",
      "See the caveats in the documentation: https://pandas.pydata.org/pandas-docs/stable/user_guide/indexing.html#returning-a-view-versus-a-copy\n",
      "  df_filtered['Leftover'] = df_filtered['Pallets'] - df_filtered['Whole_Pallets']\n"
     ]
    },
    {
     "name": "stdout",
     "output_type": "stream",
     "text": [
      "         Material  Material Document   Reference Posting Date Time of Entry  \\\n",
      "3      V301531300         5000054262  4500034178   04/01/2022      07:59:01   \n",
      "4      V301743401         5000054262  4500034178   04/01/2022      07:59:01   \n",
      "5        7000188H         5000054264  4500034177   04/01/2022      08:43:58   \n",
      "6        7000803A         5000054264  4500034177   04/01/2022      08:43:58   \n",
      "7        7000885D         5000054264  4500034177   04/01/2022      08:43:58   \n",
      "...           ...                ...         ...          ...           ...   \n",
      "24130  Y301780900         4906055278  0084189370   30/12/2022      12:08:26   \n",
      "24131  Y301780900         4906055278  0084189370   30/12/2022      12:08:26   \n",
      "24132  Y301781200         4906055278  0084189370   30/12/2022      12:08:26   \n",
      "24133  Y301781200         4906055278  0084189370   30/12/2022      12:08:26   \n",
      "24134  Y302169400         4906055278  0084189370   30/12/2022      12:08:26   \n",
      "\n",
      "      Quantity Base Unit of Measure  Boxes  Pallets  Whole_Pallets  Leftover  \n",
      "3       13 120                   CU    656      4.1              4       0.1  \n",
      "4        8 640                   CU    432      1.8              1       0.8  \n",
      "5          160                   CU     16      0.6              0       0.6  \n",
      "6          240                   CU     12      0.1              0       0.1  \n",
      "7          768                   CU      8      0.1              0       0.1  \n",
      "...        ...                  ...    ...      ...            ...       ...  \n",
      "24130       11                   CU      1      0.0              0       0.0  \n",
      "24131       34                   CU      3      0.0              0       0.0  \n",
      "24132        9                   CU      1      0.0              0       0.0  \n",
      "24133       13                   CU      1      0.0              0       0.0  \n",
      "24134       34                   CU      6      0.0              0       0.0  \n",
      "\n",
      "[23419 rows x 11 columns]\n"
     ]
    }
   ],
   "source": [
    "# Group by 'Reference' and calculate the sum of 'Pallets' and check for whole pallets\n",
    "\n",
    "df_filtered['Whole_Pallets'] = df_filtered['Pallets'].apply(lambda x: int(x))\n",
    "\n",
    "# Find the leftover pallets and get the corresponding 'Boxes' value\n",
    "df_filtered['Leftover'] = df_filtered['Pallets'] - df_filtered['Whole_Pallets']\n",
    "\n",
    "# Print the resulting DataFrame\n",
    "print(df_filtered)\n",
    "\n",
    "df_filtered.to_excel('output.xlsx', index=False)"
   ]
  },
  {
   "cell_type": "markdown",
   "id": "949881d2",
   "metadata": {},
   "source": [
    "<h1>Calculation</h1>\n"
   ]
  },
  {
   "cell_type": "markdown",
   "id": "ef0c3d16",
   "metadata": {},
   "source": [
    "\n",
    "\n"
   ]
  },
  {
   "cell_type": "markdown",
   "id": "97efc8e4",
   "metadata": {},
   "source": [
    "<h3>Counting number of multi SKU pallets</h3>"
   ]
  },
  {
   "cell_type": "code",
   "execution_count": 53,
   "id": "e187f99e",
   "metadata": {},
   "outputs": [],
   "source": [
    "#filtering out whole number pallets row\n",
    "df_filtered_full = df_filtered.loc[df_filtered['Whole_Pallets'] > 0.9]\n",
    "\n",
    "#filtering out rows where \"Leftover\" column \n",
    "df_filtered_mixed = df_filtered.loc[df_filtered['Leftover'] > 0.09]\n",
    "\n",
    "\n",
    "\n",
    "def get_unique_references(df,ref):\n",
    "    unique_references = df[ref].unique().tolist()\n",
    "    return unique_references\n",
    "\n",
    "ref = get_unique_references(df_filtered,'Reference')\n",
    "\n",
    "result= {\n",
    "    'Reference':[],\n",
    "    '# Pallets 1 SKU single stacked':[],\n",
    "    '# Pallets multi SKU':[],    \n",
    "    '# Lines on multi SKU pallets':[],\n",
    "    '# Inbound orders/ASN':[],\n",
    "    '# Remaining Pallets':[],\n",
    "}\n",
    "\n",
    "for number in ref:\n",
    "    df_by_ref = df_filtered.loc[df_filtered['Reference'] == number]\n",
    "    #counting number of whole pallets / single SKU in a Reference no\n",
    "    df_filtered_full_by_ref = df_filtered_full.loc[df_filtered_full['Reference'] == number]\n",
    "    \n",
    "    #counting number of less than pallets / mixed SKU in a Reference no\n",
    "    df_filtered_mixed_by_ref = df_filtered_mixed.loc[df_filtered_mixed['Reference'] == number]\n",
    "\n",
    "    result['Reference'].append(number)\n",
    "    result['# Pallets 1 SKU single stacked'].append( df_filtered_full_by_ref['Whole_Pallets'].sum())\n",
    "    #sum the leftover value and get interger part \n",
    "    left_over_sum = int(df_filtered_mixed_by_ref['Leftover'].sum())\n",
    "    result['# Pallets multi SKU'].append( left_over_sum )\n",
    "    #counting number of lines from mixed value data frame\n",
    "    result['# Lines on multi SKU pallets'].append(df_filtered_mixed_by_ref.shape[0])\n",
    "    order = df_filtered_mixed_by_ref.shape[0] + df_filtered_full_by_ref['Whole_Pallets'].sum()\n",
    "    result['# Inbound orders/ASN'].append(order)\n",
    "    #record the remaining values \n",
    "    remain = df_filtered_mixed_by_ref['Leftover'].sum() - int(df_filtered_mixed_by_ref['Leftover'].sum())\n",
    "    result['# Remaining Pallets'].append(remain)\n",
    "    \n",
    "\n"
   ]
  },
  {
   "cell_type": "code",
   "execution_count": 55,
   "id": "8330c92b",
   "metadata": {},
   "outputs": [],
   "source": [
    "# Exporting the result dataframe into \n",
    "df_result = pd.DataFrame(result)\n",
    "\n",
    "df_result.to_excel('output.xlsx', index=False)"
   ]
  },
  {
   "cell_type": "code",
   "execution_count": null,
   "id": "a3c97d5b",
   "metadata": {},
   "outputs": [],
   "source": []
  }
 ],
 "metadata": {
  "kernelspec": {
   "display_name": "Python 3 (ipykernel)",
   "language": "python",
   "name": "python3"
  },
  "language_info": {
   "codemirror_mode": {
    "name": "ipython",
    "version": 3
   },
   "file_extension": ".py",
   "mimetype": "text/x-python",
   "name": "python",
   "nbconvert_exporter": "python",
   "pygments_lexer": "ipython3",
   "version": "3.9.12"
  }
 },
 "nbformat": 4,
 "nbformat_minor": 5
}
