{
 "cells": [
  {
   "cell_type": "code",
   "execution_count": 3,
   "id": "ad0b8a31",
   "metadata": {},
   "outputs": [
    {
     "data": {
      "text/plain": [
       "(24136, 9)"
      ]
     },
     "execution_count": 3,
     "metadata": {},
     "output_type": "execute_result"
    }
   ],
   "source": [
    "import pandas as pd\n",
    "import math\n",
    "\n",
    "# Read the inbound.csv file\n",
    "df_inbound = pd.read_csv('template 2022 inbound.csv', sep=';')\n",
    "\n",
    "df_inbound.shape\n"
   ]
  },
  {
   "cell_type": "markdown",
   "id": "9f31cfcd",
   "metadata": {},
   "source": [
    "<h1>1. Clean the input file</h1>"
   ]
  },
  {
   "cell_type": "code",
   "execution_count": 4,
   "id": "0c6ad757",
   "metadata": {},
   "outputs": [
    {
     "name": "stdout",
     "output_type": "stream",
     "text": [
      "NaN value counts per column:\n",
      "Material                  0\n",
      "Material Document         0\n",
      "Reference               717\n",
      "Posting Date              0\n",
      "Time of Entry             0\n",
      "Quantity                  0\n",
      "Base Unit of Measure      0\n",
      "Boxes                     0\n",
      "Pallets                  74\n",
      "dtype: int64\n",
      "##### NaN reference #####\n",
      "Non-numeric values in 'Pallets' column:\n",
      "Series([], Name: Pallets, dtype: float64)\n",
      "Material                 object\n",
      "Material Document         int64\n",
      "Reference                object\n",
      "Posting Date             object\n",
      "Time of Entry            object\n",
      "Quantity                 object\n",
      "Base Unit of Measure     object\n",
      "Boxes                     int64\n",
      "Pallets                 float64\n",
      "dtype: object\n",
      "Number of rows: 23419\n",
      "Number of columns: 9\n"
     ]
    },
    {
     "name": "stderr",
     "output_type": "stream",
     "text": [
      "/var/folders/5j/b5cpchnx2w57rt5gx7nvfntr0000gn/T/ipykernel_23142/961388090.py:16: SettingWithCopyWarning: \n",
      "A value is trying to be set on a copy of a slice from a DataFrame.\n",
      "Try using .loc[row_indexer,col_indexer] = value instead\n",
      "\n",
      "See the caveats in the documentation: https://pandas.pydata.org/pandas-docs/stable/user_guide/indexing.html#returning-a-view-versus-a-copy\n",
      "  df_filtered['Pallets'] = df_filtered['Pallets'].astype(str)\n",
      "/var/folders/5j/b5cpchnx2w57rt5gx7nvfntr0000gn/T/ipykernel_23142/961388090.py:18: SettingWithCopyWarning: \n",
      "A value is trying to be set on a copy of a slice from a DataFrame.\n",
      "Try using .loc[row_indexer,col_indexer] = value instead\n",
      "\n",
      "See the caveats in the documentation: https://pandas.pydata.org/pandas-docs/stable/user_guide/indexing.html#returning-a-view-versus-a-copy\n",
      "  df_filtered['Pallets'] = df_filtered['Pallets'].str.replace(',', '.')\n",
      "/var/folders/5j/b5cpchnx2w57rt5gx7nvfntr0000gn/T/ipykernel_23142/961388090.py:20: SettingWithCopyWarning: \n",
      "A value is trying to be set on a copy of a slice from a DataFrame.\n",
      "Try using .loc[row_indexer,col_indexer] = value instead\n",
      "\n",
      "See the caveats in the documentation: https://pandas.pydata.org/pandas-docs/stable/user_guide/indexing.html#returning-a-view-versus-a-copy\n",
      "  df_filtered['Pallets'] = pd.to_numeric(df_filtered['Pallets'], errors='coerce')\n",
      "/var/folders/5j/b5cpchnx2w57rt5gx7nvfntr0000gn/T/ipykernel_23142/961388090.py:27: SettingWithCopyWarning: \n",
      "A value is trying to be set on a copy of a slice from a DataFrame\n",
      "\n",
      "See the caveats in the documentation: https://pandas.pydata.org/pandas-docs/stable/user_guide/indexing.html#returning-a-view-versus-a-copy\n",
      "  df_filtered.loc[:, 'Pallets'].fillna(1, inplace=True)\n"
     ]
    }
   ],
   "source": [
    "nan_counts = df_inbound.isna().sum()\n",
    "\n",
    "print(\"NaN value counts per column:\")\n",
    "print(nan_counts)\n",
    "\n",
    "print(\"##### NaN reference #####\")\n",
    "\n",
    "###REFERENCE NUMBER###\n",
    "# Filter out rows with NaN values in 'Reference' column\n",
    "df_filtered = df_inbound.loc[df_inbound['Reference'].notna()]\n",
    "\n",
    "###PALLETS NUMBER###\n",
    "\n",
    "\n",
    "# Convert 'Pallets' column to a string type\n",
    "df_filtered['Pallets'] = df_filtered['Pallets'].astype(str)\n",
    "\n",
    "df_filtered['Pallets'] = df_filtered['Pallets'].str.replace(',', '.')\n",
    "#Convert value of Pallets to number\n",
    "df_filtered['Pallets'] = pd.to_numeric(df_filtered['Pallets'], errors='coerce')\n",
    "\n",
    "\n",
    "\n",
    "# Replace NaN values with 1 in 'Pallets' column\n",
    "df_filtered.loc[:, 'Pallets'].fillna(1, inplace=True)\n",
    "\n",
    "# Convert 'Pallets' column to numeric and check for non-numeric values\n",
    "non_numeric_rows = df_filtered['Pallets'].apply(pd.to_numeric, errors='coerce').isna()\n",
    "\n",
    "# Filter the dataframe to keep only the non-numeric rows\n",
    "non_numeric_values = df_filtered.loc[non_numeric_rows, 'Pallets']\n",
    "# Print the non-numeric values\n",
    "print(\"Non-numeric values in 'Pallets' column:\")\n",
    "print(non_numeric_values)\n",
    "\n",
    "print(df_filtered.dtypes)\n",
    "\n",
    "# Count rows and columns\n",
    "num_rows = df_filtered.shape[0]\n",
    "num_columns = df_filtered.shape[1]\n",
    "\n",
    "print(\"Number of rows:\", num_rows)\n",
    "print(\"Number of columns:\", num_columns)"
   ]
  },
  {
   "cell_type": "code",
   "execution_count": 5,
   "id": "7c906576",
   "metadata": {},
   "outputs": [
    {
     "name": "stdout",
     "output_type": "stream",
     "text": [
      "                Pallets  Whole_Pallets  Leftover Leftover_Boxes\n",
      "Reference                                                      \n",
      "0084184269          1.1              1       0.1            N/A\n",
      "0084184270          1.1              1       0.1            N/A\n",
      "0084186565          1.8              1       0.8             90\n",
      "0084186573          1.0              1       0.0              1\n",
      "0084186791          1.0              1       0.0            N/A\n",
      "...                 ...            ...       ...            ...\n",
      "4500037253          1.5              1       0.5            N/A\n",
      "4500037366          1.9              1       0.9            N/A\n",
      "4500037657          1.5              1       0.5            N/A\n",
      "4500037681          1.0              1       0.0            N/A\n",
      "OIF 12975 TEMP      1.3              1       0.3            N/A\n",
      "\n",
      "[82 rows x 4 columns]\n"
     ]
    }
   ],
   "source": [
    "# Group by 'Reference' and calculate the sum of 'Pallets' and check for whole pallets\n",
    "grouped_df = df_filtered.groupby('Reference').agg({'Pallets': sum})\n",
    "grouped_df['Whole_Pallets'] = grouped_df['Pallets'].apply(lambda x: int(x))\n",
    "\n",
    "# Filter out rows where the sum of 'Pallets' is not equal to 1\n",
    "grouped_df = grouped_df[grouped_df['Whole_Pallets'] == 1]\n",
    "\n",
    "# Find the leftover pallets and get the corresponding 'Boxes' value\n",
    "grouped_df['Leftover'] = grouped_df['Pallets'] - grouped_df['Whole_Pallets']\n",
    "\n",
    "# Print the resulting DataFrame\n",
    "print(grouped_df)"
   ]
  },
  {
   "cell_type": "code",
   "execution_count": 6,
   "id": "5db8f41c",
   "metadata": {},
   "outputs": [
    {
     "name": "stdout",
     "output_type": "stream",
     "text": [
      "Result saved to result.xlsx\n"
     ]
    }
   ],
   "source": [
    "# Save the resulting DataFrame to an Excel file\n",
    "output_file = 'result.xlsx'\n",
    "grouped_df.to_excel(output_file, index=True)\n",
    "\n",
    "print(\"Result saved to\", output_file)"
   ]
  },
  {
   "cell_type": "markdown",
   "id": "98abf84e",
   "metadata": {},
   "source": [
    "<h1>2. Clean the Master Data file</h1>"
   ]
  },
  {
   "cell_type": "code",
   "execution_count": 7,
   "id": "f3b593d4",
   "metadata": {},
   "outputs": [
    {
     "name": "stdout",
     "output_type": "stream",
     "text": [
      "NaN value counts per column:\n",
      "Material            4\n",
      "Packing Type        4\n",
      "Numerator           4\n",
      "Denom.              4\n",
      "Length              4\n",
      "Length.1          991\n",
      "Width               4\n",
      "Width.1           991\n",
      "Height              4\n",
      "Height.1          991\n",
      "Volume              4\n",
      "Volume.1          360\n",
      "Gross weight        4\n",
      "Gross weight.1    840\n",
      "net weight          4\n",
      "net weight.1        4\n",
      "dtype: int64\n",
      "   Material Packing Type Numerator  Denom.    Length Length.1     Width  \\\n",
      "0  7000023W           CU         1     1.0       153       MM       232   \n",
      "1  7000023W          PAL     1 200     1.0  1 200,00       MM       800   \n",
      "2  7000023W           PC         1    12.0         0      NaN         0   \n",
      "3  7000023W          PLR       100     1.0  1 146,00       MM       750   \n",
      "4  7000023W          PLU     1 540     1.0  1 200,00       MM  1 000,00   \n",
      "\n",
      "  Width.1    Height Height.1    Volume Volume.1 Gross weight Gross weight.1  \\\n",
      "0      MM        23       MM     0,816      CDM          155              G   \n",
      "1      MM  1 596,00       MM  1 532,16      CDM   225 600,00              G   \n",
      "2     NaN         0      NaN         0      NaN            0            NaN   \n",
      "3      MM       121       MM       104      CDM    16 800,00              G   \n",
      "4      MM  1 481,00       MM  1 777,20      CDM   283 720,00              G   \n",
      "\n",
      "   net weight net weight.1  \n",
      "0         132            G  \n",
      "1  158 400,00            G  \n",
      "2         132            G  \n",
      "3   13 200,00            G  \n",
      "4  203 280,00            G  \n"
     ]
    },
    {
     "data": {
      "text/plain": [
       "(8168, 16)"
      ]
     },
     "execution_count": 7,
     "metadata": {},
     "output_type": "execute_result"
    }
   ],
   "source": [
    "# Read the inbound.csv file\n",
    "df_md = pd.read_csv('md.csv', sep=';')\n",
    "\n",
    "\n",
    "\n",
    "nan_counts = df_md.isna().sum()\n",
    "\n",
    "print(\"NaN value counts per column:\")\n",
    "print(nan_counts)\n",
    "\n",
    "print(df_md.head())\n",
    "\n",
    "df_md.shape"
   ]
  },
  {
   "cell_type": "code",
   "execution_count": 13,
   "id": "29ddab51",
   "metadata": {},
   "outputs": [
    {
     "name": "stdout",
     "output_type": "stream",
     "text": [
      "        Material Packing Type  Numerator  Denom.    Length Length.1     Width  \\\n",
      "0       7000023W           CU        1.0     1.0       153       MM       232   \n",
      "2       7000023W           PC        1.0    12.0         0      NaN         0   \n",
      "3       7000023W          PLR      100.0     1.0  1 146,00       MM       750   \n",
      "5       7000023W          PRU      140.0     1.0  1 146,00       MM  1 000,00   \n",
      "6       7000023W           SU       10.0     1.0       323       MM       251   \n",
      "...          ...          ...        ...     ...       ...      ...       ...   \n",
      "8161  Y302335500           CU        1.0     1.0        25       MM        53   \n",
      "8163  Y302335500           PC        1.0     1.0        25       MM        53   \n",
      "8164  Y302335500          PLR      552.0     1.0  1 193,00       MM       791   \n",
      "8166  Y302335500          PRU      672.0     1.0  1 193,00       MM       992   \n",
      "8167  Y302335500           SU       12.0     1.0       180       MM       113   \n",
      "\n",
      "     Width.1 Height Height.1   Volume Volume.1 Gross weight Gross weight.1  \\\n",
      "0         MM     23       MM    0,816      CDM          155              G   \n",
      "2        NaN      0      NaN        0      NaN            0            NaN   \n",
      "3         MM    121       MM      104      CDM    16 800,00              G   \n",
      "5         MM    121       MM  138,666      CDM    23 520,00              G   \n",
      "6         MM    121       MM     9,81      CDM     1 680,00              G   \n",
      "...      ...    ...      ...      ...      ...          ...            ...   \n",
      "8161      MM    139       MM    0,184      CDM          109              G   \n",
      "8163      MM    139       MM    0,184      CDM          109              G   \n",
      "8164      MM    149       MM  140,606      CDM    62 606,00              G   \n",
      "8166      MM    149       MM  176,335      CDM    76 216,00              G   \n",
      "8167      MM    149       MM    3,031      CDM     1 361,00              G   \n",
      "\n",
      "     net weight net weight.1  \n",
      "0           132            G  \n",
      "2           132            G  \n",
      "3     13 200,00            G  \n",
      "5     18 480,00            G  \n",
      "6      1 320,00            G  \n",
      "...         ...          ...  \n",
      "8161        100            G  \n",
      "8163        100            G  \n",
      "8164  55 200,00            G  \n",
      "8166  67 200,00            G  \n",
      "8167   1 200,00            G  \n",
      "\n",
      "[6624 rows x 16 columns]\n",
      "Material           object\n",
      "Packing Type       object\n",
      "Numerator         float64\n",
      "Denom.            float64\n",
      "Length             object\n",
      "Length.1           object\n",
      "Width              object\n",
      "Width.1            object\n",
      "Height             object\n",
      "Height.1           object\n",
      "Volume             object\n",
      "Volume.1           object\n",
      "Gross weight       object\n",
      "Gross weight.1     object\n",
      "net weight         object\n",
      "net weight.1       object\n",
      "dtype: object\n"
     ]
    },
    {
     "name": "stderr",
     "output_type": "stream",
     "text": [
      "/var/folders/5j/b5cpchnx2w57rt5gx7nvfntr0000gn/T/ipykernel_23142/2702132615.py:5: SettingWithCopyWarning: \n",
      "A value is trying to be set on a copy of a slice from a DataFrame.\n",
      "Try using .loc[row_indexer,col_indexer] = value instead\n",
      "\n",
      "See the caveats in the documentation: https://pandas.pydata.org/pandas-docs/stable/user_guide/indexing.html#returning-a-view-versus-a-copy\n",
      "  df_md_filtered['Numerator'] = pd.to_numeric(df_md_filtered['Numerator'], errors='coerce')\n"
     ]
    }
   ],
   "source": [
    "# Filter out rows with NaN values in 'Material' column\n",
    "df_md_filtered = df_md[df_md['Material'].notna()]\n",
    "\n",
    "#Convert value of Numerator to number\n",
    "df_md_filtered['Numerator'] = pd.to_numeric(df_md_filtered['Numerator'], errors='coerce')\n",
    "#Filter NaN value in case there are \n",
    "df_md_filtered = df_md_filtered[df_md_filtered['Numerator'].notna()]\n",
    "\n",
    "print(df_md_filtered)\n",
    "print(df_md_filtered.dtypes)\n"
   ]
  },
  {
   "cell_type": "markdown",
   "id": "949881d2",
   "metadata": {},
   "source": [
    "<h1>3. Calculation</h1>\n"
   ]
  },
  {
   "cell_type": "code",
   "execution_count": 28,
   "id": "5913a498",
   "metadata": {},
   "outputs": [
    {
     "name": "stderr",
     "output_type": "stream",
     "text": [
      "/var/folders/5j/b5cpchnx2w57rt5gx7nvfntr0000gn/T/ipykernel_23142/1110013860.py:2: SettingWithCopyWarning: \n",
      "A value is trying to be set on a copy of a slice from a DataFrame.\n",
      "Try using .loc[row_indexer,col_indexer] = value instead\n",
      "\n",
      "See the caveats in the documentation: https://pandas.pydata.org/pandas-docs/stable/user_guide/indexing.html#returning-a-view-versus-a-copy\n",
      "  df_filtered['Pallets_whole'] = df_filtered['Pallets'].apply(int)\n",
      "/var/folders/5j/b5cpchnx2w57rt5gx7nvfntr0000gn/T/ipykernel_23142/1110013860.py:3: SettingWithCopyWarning: \n",
      "A value is trying to be set on a copy of a slice from a DataFrame.\n",
      "Try using .loc[row_indexer,col_indexer] = value instead\n",
      "\n",
      "See the caveats in the documentation: https://pandas.pydata.org/pandas-docs/stable/user_guide/indexing.html#returning-a-view-versus-a-copy\n",
      "  df_filtered['Pallets_decimal'] = df_filtered['Pallets'] - df_filtered['Pallets_whole']\n"
     ]
    },
    {
     "name": "stdout",
     "output_type": "stream",
     "text": [
      "       Material  Material Document   Reference Posting Date Time of Entry  \\\n",
      "0      70010840         4905937928  0084186573   04/01/2022      16:13:58   \n",
      "1      7006713E         4905937928  0084186573   04/01/2022      16:13:58   \n",
      "2    W301656103         4905937928  0084186573   04/01/2022      16:13:58   \n",
      "3    X301583800         4905937928  0084186573   04/01/2022      16:13:58   \n",
      "4    X301583900         4905937928  0084186573   04/01/2022      16:13:58   \n",
      "..          ...                ...         ...          ...           ...   \n",
      "204    73924130         4906052096  0084189121   16/12/2022      12:36:33   \n",
      "205  Y300047300         4906052096  0084189121   16/12/2022      12:36:33   \n",
      "206  Y300047300         4906052096  0084189121   16/12/2022      12:36:33   \n",
      "207  Y301017000         4906052096  0084189121   16/12/2022      12:36:33   \n",
      "208  Y301017000         4906052096  0084189121   16/12/2022      12:36:33   \n",
      "\n",
      "    Quantity Base Unit of Measure  Boxes  Pallets  Pallets_whole  \\\n",
      "0         12                   CU      1      0.0              0   \n",
      "1         10                   CU      1      0.0              0   \n",
      "2          5                   CU      0      0.0              0   \n",
      "3          6                   CU      1      0.0              0   \n",
      "4          6                   CU      1      0.0              0   \n",
      "..       ...                  ...    ...      ...            ...   \n",
      "204        4                   CU      4      1.0              1   \n",
      "205       37                   CU      6      0.0              0   \n",
      "206      311                   CU     52      0.2              0   \n",
      "207        4                   CU      1      0.0              0   \n",
      "208      938                   CU    156      0.5              0   \n",
      "\n",
      "     Pallets_decimal  \n",
      "0                0.0  \n",
      "1                0.0  \n",
      "2                0.0  \n",
      "3                0.0  \n",
      "4                0.0  \n",
      "..               ...  \n",
      "204              0.0  \n",
      "205              0.0  \n",
      "206              0.2  \n",
      "207              0.0  \n",
      "208              0.5  \n",
      "\n",
      "[209 rows x 11 columns]\n"
     ]
    }
   ],
   "source": [
    "# Extract whole numbers and decimal places\n",
    "df_filtered['Pallets_whole'] = df_filtered['Pallets'].apply(int)\n",
    "df_filtered['Pallets_decimal'] = df_filtered['Pallets'] - df_filtered['Pallets_whole']\n",
    "\n",
    "# # Group the data by 'Posting Date' and 'Reference' number and calculate the sum of 'Pallets' and 'Pallets_decimal' for each group\n",
    "# grouped_df = df_filtered.groupby(['Posting Date', 'Reference'])\n",
    "\n",
    "# print(grouped_df.head())\n",
    "\n",
    "# Filter rows where the sum of 'Pallets_whole' is 1, indicating single pallets\n",
    "single_pallets = df_filtered[df_filtered['Pallets_whole'] == 1]\n",
    "\n",
    "# Calculate the sum of 'Pallets_decimal' within each reference number and filter rows where the sum is 1, indicating mixed pallets\n",
    "mixed_pallets = df_filtered.groupby('Reference').filter(lambda x: x['Pallets_decimal'].sum() == 1)\n",
    "\n",
    "# Reset the index of mixed pallets DataFrame\n",
    "mixed_pallets = mixed_pallets.reset_index(drop=True)\n",
    "\n",
    "print(mixed_pallets)\n",
    "\n"
   ]
  },
  {
   "cell_type": "code",
   "execution_count": null,
   "id": "eb8b51c0",
   "metadata": {},
   "outputs": [],
   "source": []
  }
 ],
 "metadata": {
  "kernelspec": {
   "display_name": "Python 3 (ipykernel)",
   "language": "python",
   "name": "python3"
  },
  "language_info": {
   "codemirror_mode": {
    "name": "ipython",
    "version": 3
   },
   "file_extension": ".py",
   "mimetype": "text/x-python",
   "name": "python",
   "nbconvert_exporter": "python",
   "pygments_lexer": "ipython3",
   "version": "3.9.12"
  }
 },
 "nbformat": 4,
 "nbformat_minor": 5
}
